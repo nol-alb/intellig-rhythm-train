{
 "cells": [
  {
   "cell_type": "code",
   "execution_count": 1,
   "id": "cf08f0eb",
   "metadata": {},
   "outputs": [],
   "source": [
    "import numpy as np"
   ]
  },
  {
   "cell_type": "code",
   "execution_count": 28,
   "id": "a47dff7c",
   "metadata": {},
   "outputs": [],
   "source": [
    "arr = np.array(['G1', 'G2', 'G3', 'G4', 'G5', 'G6'])"
   ]
  },
  {
   "cell_type": "code",
   "execution_count": 31,
   "id": "2f52b946",
   "metadata": {},
   "outputs": [],
   "source": [
    "np.random.shuffle(arr)"
   ]
  },
  {
   "cell_type": "code",
   "execution_count": 32,
   "id": "d77f0910",
   "metadata": {},
   "outputs": [
    {
     "data": {
      "text/plain": [
       "array(['G1', 'G6', 'G5', 'G4', 'G2', 'G3'], dtype='<U2')"
      ]
     },
     "execution_count": 32,
     "metadata": {},
     "output_type": "execute_result"
    }
   ],
   "source": [
    "arr"
   ]
  },
  {
   "cell_type": "code",
   "execution_count": 20,
   "id": "bbccd0ce",
   "metadata": {},
   "outputs": [
    {
     "name": "stdout",
     "output_type": "stream",
     "text": [
      "None\n"
     ]
    }
   ],
   "source": [
    "print(StimuliOrder)"
   ]
  },
  {
   "cell_type": "code",
   "execution_count": 21,
   "id": "b65b2372",
   "metadata": {},
   "outputs": [
    {
     "data": {
      "text/plain": [
       "NoneType"
      ]
     },
     "execution_count": 21,
     "metadata": {},
     "output_type": "execute_result"
    }
   ],
   "source": [
    "type(StimuliOrder)"
   ]
  },
  {
   "cell_type": "code",
   "execution_count": 22,
   "id": "d959c39a",
   "metadata": {},
   "outputs": [],
   "source": [
    "arr = np.array([1, 2, 3, 4, 5])"
   ]
  },
  {
   "cell_type": "code",
   "execution_count": 27,
   "id": "20622908",
   "metadata": {},
   "outputs": [
    {
     "name": "stdout",
     "output_type": "stream",
     "text": [
      "None\n"
     ]
    }
   ],
   "source": [
    "print(arr)\n"
   ]
  },
  {
   "cell_type": "code",
   "execution_count": 33,
   "id": "fbc912fd",
   "metadata": {},
   "outputs": [],
   "source": [
    "newPath = 'static/data/experimentData/' + str(5)"
   ]
  },
  {
   "cell_type": "code",
   "execution_count": 34,
   "id": "c5a94248",
   "metadata": {},
   "outputs": [
    {
     "ename": "NameError",
     "evalue": "name 'newPATH' is not defined",
     "output_type": "error",
     "traceback": [
      "\u001b[0;31m---------------------------------------------------------------------------\u001b[0m",
      "\u001b[0;31mNameError\u001b[0m                                 Traceback (most recent call last)",
      "\u001b[0;32m/var/folders/td/wr0v_l5j16bgp1cvydp7pmqc0000gn/T/ipykernel_18967/3685002504.py\u001b[0m in \u001b[0;36m<module>\u001b[0;34m\u001b[0m\n\u001b[0;32m----> 1\u001b[0;31m \u001b[0mnewPATH\u001b[0m\u001b[0;34m\u001b[0m\u001b[0;34m\u001b[0m\u001b[0m\n\u001b[0m",
      "\u001b[0;31mNameError\u001b[0m: name 'newPATH' is not defined"
     ]
    }
   ],
   "source": [
    "newPATH"
   ]
  },
  {
   "cell_type": "code",
   "execution_count": 35,
   "id": "58a3314d",
   "metadata": {},
   "outputs": [
    {
     "data": {
      "text/plain": [
       "'static/data/experimentData/5'"
      ]
     },
     "execution_count": 35,
     "metadata": {},
     "output_type": "execute_result"
    }
   ],
   "source": [
    "newPath"
   ]
  },
  {
   "cell_type": "code",
   "execution_count": 38,
   "id": "f0bfd822",
   "metadata": {},
   "outputs": [],
   "source": [
    "audioFiles =os.path.join(newPath, 'audio')"
   ]
  },
  {
   "cell_type": "code",
   "execution_count": 37,
   "id": "6f593423",
   "metadata": {},
   "outputs": [],
   "source": [
    "import os"
   ]
  },
  {
   "cell_type": "code",
   "execution_count": 39,
   "id": "15cc9e70",
   "metadata": {},
   "outputs": [
    {
     "data": {
      "text/plain": [
       "'static/data/experimentData/5/audio'"
      ]
     },
     "execution_count": 39,
     "metadata": {},
     "output_type": "execute_result"
    }
   ],
   "source": [
    "audioFiles\n"
   ]
  },
  {
   "cell_type": "code",
   "execution_count": 43,
   "id": "a5a48f4d",
   "metadata": {},
   "outputs": [],
   "source": [
    "import csv\n",
    "with open('participants.csv', 'w', newline='') as file:\n",
    "        writer = csv.writer(file)\n",
    "        writer.writerow([\"ParticipantId\", \"Stim1\", \"Stim2\",  \"Stim3\",  \"Stim4\",  \"Stim5\",  \"Stim6\",\"Musician\",\"Years\",\"Recording\", \"Completed\"])\n",
    "        "
   ]
  },
  {
   "cell_type": "code",
   "execution_count": 45,
   "id": "0a65944c",
   "metadata": {},
   "outputs": [
    {
     "data": {
      "text/plain": [
       "['3.npy', '2.npy', '1.npy', '1.wav', '3.wav', '2.wav']"
      ]
     },
     "execution_count": 45,
     "metadata": {},
     "output_type": "execute_result"
    }
   ],
   "source": [
    "os.listdir('/Users/noelalben/github/GTCMTthesis/Stimuli/trials')"
   ]
  },
  {
   "cell_type": "code",
   "execution_count": 48,
   "id": "57edb126",
   "metadata": {},
   "outputs": [],
   "source": [
    "files = [f for f in os.listdir('/Users/noelalben/github/GTCMTthesis/Stimuli/trials') if os.path.isfile(f) and f.endswith(\".wav\")]"
   ]
  },
  {
   "cell_type": "code",
   "execution_count": 49,
   "id": "fdf91d80",
   "metadata": {},
   "outputs": [
    {
     "data": {
      "text/plain": [
       "[]"
      ]
     },
     "execution_count": 49,
     "metadata": {},
     "output_type": "execute_result"
    }
   ],
   "source": [
    "files"
   ]
  },
  {
   "cell_type": "code",
   "execution_count": 60,
   "id": "39aa41c8",
   "metadata": {},
   "outputs": [],
   "source": [
    "onsetData = np.load('/Users/noelalben/github/intellig-rhythm-train/ExpInterface/WebApp/static/data/Stimuli/trial/2.npy')\n",
    "f = onsetData.tolist()\n",
    "    "
   ]
  },
  {
   "cell_type": "code",
   "execution_count": 62,
   "id": "d92c3963",
   "metadata": {},
   "outputs": [
    {
     "data": {
      "text/plain": [
       "[0,\n",
       " 25200,\n",
       " 37800,\n",
       " 63000,\n",
       " 100800,\n",
       " 126000,\n",
       " 138600,\n",
       " 163800,\n",
       " 201600,\n",
       " 226800,\n",
       " 239400,\n",
       " 264600,\n",
       " 302400,\n",
       " 327600,\n",
       " 340200,\n",
       " 365400]"
      ]
     },
     "execution_count": 62,
     "metadata": {},
     "output_type": "execute_result"
    }
   ],
   "source": [
    "f[0]"
   ]
  },
  {
   "cell_type": "code",
   "execution_count": 54,
   "id": "3d865e8f",
   "metadata": {},
   "outputs": [
    {
     "name": "stdout",
     "output_type": "stream",
     "text": [
      "/Users/noelalben/github/GTCMTthesis/Stimuli/trials/1.wav\n",
      "/Users/noelalben/github/GTCMTthesis/Stimuli/trials/3.wav\n",
      "/Users/noelalben/github/GTCMTthesis/Stimuli/trials/2.wav\n"
     ]
    }
   ],
   "source": [
    "trials = '/Users/noelalben/github/GTCMTthesis/Stimuli/trials'\n",
    "for f in os.listdir(trials):\n",
    "    if f.endswith(\".wav\"):\n",
    "        files = os.path.join(trials, f)\n",
    "        print(files)\n",
    "    "
   ]
  },
  {
   "cell_type": "code",
   "execution_count": 55,
   "id": "9c7919ed",
   "metadata": {},
   "outputs": [],
   "source": [
    "    trials = '/Users/noelalben/github/GTCMTthesis/Stimuli/trials'\n",
    "    files = []\n",
    "    for f in os.listdir(trials):\n",
    "        if f.endswith(\".wav\"):\n",
    "            files.append( os.path.join(trials, f))"
   ]
  },
  {
   "cell_type": "code",
   "execution_count": 56,
   "id": "d53386cc",
   "metadata": {},
   "outputs": [
    {
     "data": {
      "text/plain": [
       "['/Users/noelalben/github/GTCMTthesis/Stimuli/trials/1.wav',\n",
       " '/Users/noelalben/github/GTCMTthesis/Stimuli/trials/3.wav',\n",
       " '/Users/noelalben/github/GTCMTthesis/Stimuli/trials/2.wav']"
      ]
     },
     "execution_count": 56,
     "metadata": {},
     "output_type": "execute_result"
    }
   ],
   "source": [
    "files"
   ]
  },
  {
   "cell_type": "code",
   "execution_count": null,
   "id": "110c9551",
   "metadata": {},
   "outputs": [],
   "source": []
  }
 ],
 "metadata": {
  "kernelspec": {
   "display_name": "Python 3 (ipykernel)",
   "language": "python",
   "name": "python3"
  },
  "language_info": {
   "codemirror_mode": {
    "name": "ipython",
    "version": 3
   },
   "file_extension": ".py",
   "mimetype": "text/x-python",
   "name": "python",
   "nbconvert_exporter": "python",
   "pygments_lexer": "ipython3",
   "version": "3.9.7"
  }
 },
 "nbformat": 4,
 "nbformat_minor": 5
}
